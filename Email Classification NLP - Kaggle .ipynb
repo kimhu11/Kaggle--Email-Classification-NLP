{
 "cells": [
  {
   "cell_type": "markdown",
   "metadata": {},
   "source": [
    "Author: Kim Hu\n",
    "\n",
    "Date: March 3, 2022\n",
    "\n",
    "Data source: https://www.kaggle.com/datatattle/email-classification-nlp"
   ]
  },
  {
   "cell_type": "markdown",
   "metadata": {},
   "source": [
    "## Introduction\n",
    "The project's goal is to build a Multinomial Naive Bayes model to detect spam emails. The second goal is to find out in this particular case, which text transformer is better, CountVectorizer() or TfidfVectorizer()? Many people say TfidfVectorizer() is better than CountVectorizer() because TfidfVectorizer() also weights the importance of words in the text. So, I will compare these two text transformers on the same data set.\n",
    "\n",
    "## Results\n",
    "\n",
    "| Transformer | Accuracy | Non-Spam precision | Non-Spam recall | Non-Spam f1 | Spam precision | Spam recall | Spam f1 |\n",
    "| :---: |  :---: |  :---: |  :---: |  :---: |  :---: |  :---: |  :---: | \n",
    "| CountVectorizer() | 0.97 | 0.99 | 0.98 | 0.98 | 0.80 | 0.89 | 0.84 | \n",
    "| TfidfVectorizer() | 0.97 | 0.98 | 0.98 | 0.98 | 0.83 | 0.83 | 0.83 | \n",
    "\n",
    "The two text transformers have done a very great job differentiating spam and non-spam emails, with the same overall accuracy score of 0.97, and we can say it's a tie. However, CountVectorizer() does stricter distinguishing spam emails, with a higher recall and a higher f1 score. In other words, the model with CountVectorizer() will show slightly fewer spam emails in the inbox, but some non-spam emails will be identified as spam emails. Oppositely, the model with TfidfVectorizer() will have slightly more spam emails in the inbox but fewer false positives.\n",
    "\n",
    "Base on all the metrics, CountVectorizer() does slightly better than TfidfVectorizer() in this particular case. We want a model that does a good job of distinguishing spam and non-spam emails, and there are ties on accuracy and non-spam f1 score, but the model with CountVecorizer() has a higher spam f1 score. Therefore, the final model will go with CountVectorizer(). And the result of the validation data set is shown as follow:\n",
    "\n",
    "| Accuracy | Non-Spam precision | Non-Spam recall | Non-Spam f1 | Spam precision | Spam recall | Spam f1 |\n",
    "|  :---: |  :---: |  :---: |  :---: |  :---: |  :---: |  :---: | \n",
    "| 0.91 | 0.84 | 0.96 | 0.90 | 0.97 | 0.88 | 0.92 | "
   ]
  },
  {
   "cell_type": "code",
   "execution_count": 1,
   "metadata": {},
   "outputs": [],
   "source": [
    "import pandas as pd\n",
    "import numpy as np\n",
    "\n",
    "from nltk.tokenize import RegexpTokenizer\n",
    "\n",
    "from sklearn.naive_bayes import MultinomialNB\n",
    "from sklearn.feature_extraction.text import CountVectorizer, TfidfVectorizer\n",
    "from sklearn.model_selection import cross_validate, train_test_split\n",
    "from sklearn.pipeline import make_pipeline\n",
    "from sklearn.model_selection import GridSearchCV \n",
    "from sklearn.metrics import plot_confusion_matrix, classification_report"
   ]
  },
  {
   "cell_type": "code",
   "execution_count": 2,
   "metadata": {},
   "outputs": [],
   "source": [
    "# load the two dataset\n",
    "\n",
    "# for training and testing\n",
    "train = pd.read_csv('SMS_train.csv')\n",
    "\n",
    "# for validation and the future use of the final model\n",
    "valid = pd.read_csv('SMS_test.csv')"
   ]
  },
  {
   "cell_type": "code",
   "execution_count": 3,
   "metadata": {},
   "outputs": [
    {
     "data": {
      "text/html": [
       "<div>\n",
       "<style scoped>\n",
       "    .dataframe tbody tr th:only-of-type {\n",
       "        vertical-align: middle;\n",
       "    }\n",
       "\n",
       "    .dataframe tbody tr th {\n",
       "        vertical-align: top;\n",
       "    }\n",
       "\n",
       "    .dataframe thead th {\n",
       "        text-align: right;\n",
       "    }\n",
       "</style>\n",
       "<table border=\"1\" class=\"dataframe\">\n",
       "  <thead>\n",
       "    <tr style=\"text-align: right;\">\n",
       "      <th></th>\n",
       "      <th>S. No.</th>\n",
       "      <th>Message_body</th>\n",
       "      <th>Label</th>\n",
       "    </tr>\n",
       "  </thead>\n",
       "  <tbody>\n",
       "    <tr>\n",
       "      <th>0</th>\n",
       "      <td>1</td>\n",
       "      <td>Rofl. Its true to its name</td>\n",
       "      <td>Non-Spam</td>\n",
       "    </tr>\n",
       "    <tr>\n",
       "      <th>1</th>\n",
       "      <td>2</td>\n",
       "      <td>The guy did some bitching but I acted like i'd...</td>\n",
       "      <td>Non-Spam</td>\n",
       "    </tr>\n",
       "    <tr>\n",
       "      <th>2</th>\n",
       "      <td>3</td>\n",
       "      <td>Pity, * was in mood for that. So...any other s...</td>\n",
       "      <td>Non-Spam</td>\n",
       "    </tr>\n",
       "    <tr>\n",
       "      <th>3</th>\n",
       "      <td>4</td>\n",
       "      <td>Will � b going to esplanade fr home?</td>\n",
       "      <td>Non-Spam</td>\n",
       "    </tr>\n",
       "    <tr>\n",
       "      <th>4</th>\n",
       "      <td>5</td>\n",
       "      <td>This is the 2nd time we have tried 2 contact u...</td>\n",
       "      <td>Spam</td>\n",
       "    </tr>\n",
       "  </tbody>\n",
       "</table>\n",
       "</div>"
      ],
      "text/plain": [
       "   S. No.                                       Message_body     Label\n",
       "0       1                         Rofl. Its true to its name  Non-Spam\n",
       "1       2  The guy did some bitching but I acted like i'd...  Non-Spam\n",
       "2       3  Pity, * was in mood for that. So...any other s...  Non-Spam\n",
       "3       4               Will � b going to esplanade fr home?  Non-Spam\n",
       "4       5  This is the 2nd time we have tried 2 contact u...      Spam"
      ]
     },
     "execution_count": 3,
     "metadata": {},
     "output_type": "execute_result"
    }
   ],
   "source": [
    "# inspect the training data\n",
    "train.head()"
   ]
  },
  {
   "cell_type": "code",
   "execution_count": 4,
   "metadata": {},
   "outputs": [
    {
     "name": "stdout",
     "output_type": "stream",
     "text": [
      "<class 'pandas.core.frame.DataFrame'>\n",
      "RangeIndex: 957 entries, 0 to 956\n",
      "Data columns (total 3 columns):\n",
      " #   Column        Non-Null Count  Dtype \n",
      "---  ------        --------------  ----- \n",
      " 0   S. No.        957 non-null    int64 \n",
      " 1   Message_body  957 non-null    object\n",
      " 2   Label         957 non-null    object\n",
      "dtypes: int64(1), object(2)\n",
      "memory usage: 22.6+ KB\n"
     ]
    }
   ],
   "source": [
    "# check out the training data size and null value\n",
    "train.info()"
   ]
  },
  {
   "cell_type": "code",
   "execution_count": 5,
   "metadata": {},
   "outputs": [
    {
     "data": {
      "text/plain": [
       "Non-Spam    835\n",
       "Spam        122\n",
       "Name: Label, dtype: int64"
      ]
     },
     "execution_count": 5,
     "metadata": {},
     "output_type": "execute_result"
    }
   ],
   "source": [
    "# check out the label\n",
    "train['Label'].value_counts()"
   ]
  },
  {
   "cell_type": "code",
   "execution_count": 6,
   "metadata": {},
   "outputs": [
    {
     "data": {
      "text/html": [
       "<div>\n",
       "<style scoped>\n",
       "    .dataframe tbody tr th:only-of-type {\n",
       "        vertical-align: middle;\n",
       "    }\n",
       "\n",
       "    .dataframe tbody tr th {\n",
       "        vertical-align: top;\n",
       "    }\n",
       "\n",
       "    .dataframe thead th {\n",
       "        text-align: right;\n",
       "    }\n",
       "</style>\n",
       "<table border=\"1\" class=\"dataframe\">\n",
       "  <thead>\n",
       "    <tr style=\"text-align: right;\">\n",
       "      <th></th>\n",
       "      <th>S. No.</th>\n",
       "      <th>Message_body</th>\n",
       "      <th>Label</th>\n",
       "    </tr>\n",
       "  </thead>\n",
       "  <tbody>\n",
       "    <tr>\n",
       "      <th>0</th>\n",
       "      <td>1</td>\n",
       "      <td>UpgrdCentre Orange customer, you may now claim...</td>\n",
       "      <td>Spam</td>\n",
       "    </tr>\n",
       "    <tr>\n",
       "      <th>1</th>\n",
       "      <td>2</td>\n",
       "      <td>Loan for any purpose �500 - �75,000. Homeowner...</td>\n",
       "      <td>Spam</td>\n",
       "    </tr>\n",
       "    <tr>\n",
       "      <th>2</th>\n",
       "      <td>3</td>\n",
       "      <td>Congrats! Nokia 3650 video camera phone is you...</td>\n",
       "      <td>Spam</td>\n",
       "    </tr>\n",
       "    <tr>\n",
       "      <th>3</th>\n",
       "      <td>4</td>\n",
       "      <td>URGENT! Your Mobile number has been awarded wi...</td>\n",
       "      <td>Spam</td>\n",
       "    </tr>\n",
       "    <tr>\n",
       "      <th>4</th>\n",
       "      <td>5</td>\n",
       "      <td>Someone has contacted our dating service and e...</td>\n",
       "      <td>Spam</td>\n",
       "    </tr>\n",
       "  </tbody>\n",
       "</table>\n",
       "</div>"
      ],
      "text/plain": [
       "   S. No.                                       Message_body Label\n",
       "0       1  UpgrdCentre Orange customer, you may now claim...  Spam\n",
       "1       2  Loan for any purpose �500 - �75,000. Homeowner...  Spam\n",
       "2       3  Congrats! Nokia 3650 video camera phone is you...  Spam\n",
       "3       4  URGENT! Your Mobile number has been awarded wi...  Spam\n",
       "4       5  Someone has contacted our dating service and e...  Spam"
      ]
     },
     "execution_count": 6,
     "metadata": {},
     "output_type": "execute_result"
    }
   ],
   "source": [
    "# check out the validation data size and null value\n",
    "valid.head()"
   ]
  },
  {
   "cell_type": "code",
   "execution_count": 7,
   "metadata": {},
   "outputs": [
    {
     "name": "stdout",
     "output_type": "stream",
     "text": [
      "<class 'pandas.core.frame.DataFrame'>\n",
      "RangeIndex: 125 entries, 0 to 124\n",
      "Data columns (total 3 columns):\n",
      " #   Column        Non-Null Count  Dtype \n",
      "---  ------        --------------  ----- \n",
      " 0   S. No.        125 non-null    int64 \n",
      " 1   Message_body  125 non-null    object\n",
      " 2   Label         125 non-null    object\n",
      "dtypes: int64(1), object(2)\n",
      "memory usage: 3.1+ KB\n"
     ]
    }
   ],
   "source": [
    "# check out the validation data size and null value\n",
    "valid.info()"
   ]
  },
  {
   "cell_type": "code",
   "execution_count": 8,
   "metadata": {},
   "outputs": [
    {
     "data": {
      "text/plain": [
       "Spam        76\n",
       "Non-Spam    49\n",
       "Name: Label, dtype: int64"
      ]
     },
     "execution_count": 8,
     "metadata": {},
     "output_type": "execute_result"
    }
   ],
   "source": [
    "# check out the label\n",
    "valid['Label'].value_counts()"
   ]
  },
  {
   "cell_type": "code",
   "execution_count": 9,
   "metadata": {},
   "outputs": [],
   "source": [
    "# drop the first columns for the two data set\n",
    "train = train.iloc[:,1:]\n",
    "valid = valid.iloc[:,1:]"
   ]
  },
  {
   "cell_type": "code",
   "execution_count": 10,
   "metadata": {},
   "outputs": [
    {
     "data": {
      "text/html": [
       "<div>\n",
       "<style scoped>\n",
       "    .dataframe tbody tr th:only-of-type {\n",
       "        vertical-align: middle;\n",
       "    }\n",
       "\n",
       "    .dataframe tbody tr th {\n",
       "        vertical-align: top;\n",
       "    }\n",
       "\n",
       "    .dataframe thead th {\n",
       "        text-align: right;\n",
       "    }\n",
       "</style>\n",
       "<table border=\"1\" class=\"dataframe\">\n",
       "  <thead>\n",
       "    <tr style=\"text-align: right;\">\n",
       "      <th></th>\n",
       "      <th>Message_body</th>\n",
       "      <th>Label</th>\n",
       "    </tr>\n",
       "  </thead>\n",
       "  <tbody>\n",
       "    <tr>\n",
       "      <th>0</th>\n",
       "      <td>Rofl. Its true to its name</td>\n",
       "      <td>Non-Spam</td>\n",
       "    </tr>\n",
       "    <tr>\n",
       "      <th>1</th>\n",
       "      <td>The guy did some bitching but I acted like i'd...</td>\n",
       "      <td>Non-Spam</td>\n",
       "    </tr>\n",
       "    <tr>\n",
       "      <th>2</th>\n",
       "      <td>Pity, * was in mood for that. So...any other s...</td>\n",
       "      <td>Non-Spam</td>\n",
       "    </tr>\n",
       "    <tr>\n",
       "      <th>3</th>\n",
       "      <td>Will � b going to esplanade fr home?</td>\n",
       "      <td>Non-Spam</td>\n",
       "    </tr>\n",
       "    <tr>\n",
       "      <th>4</th>\n",
       "      <td>This is the 2nd time we have tried 2 contact u...</td>\n",
       "      <td>Spam</td>\n",
       "    </tr>\n",
       "  </tbody>\n",
       "</table>\n",
       "</div>"
      ],
      "text/plain": [
       "                                        Message_body     Label\n",
       "0                         Rofl. Its true to its name  Non-Spam\n",
       "1  The guy did some bitching but I acted like i'd...  Non-Spam\n",
       "2  Pity, * was in mood for that. So...any other s...  Non-Spam\n",
       "3               Will � b going to esplanade fr home?  Non-Spam\n",
       "4  This is the 2nd time we have tried 2 contact u...      Spam"
      ]
     },
     "execution_count": 10,
     "metadata": {},
     "output_type": "execute_result"
    }
   ],
   "source": [
    "# inspect the data after dropping\n",
    "train.head()"
   ]
  },
  {
   "cell_type": "code",
   "execution_count": 11,
   "metadata": {},
   "outputs": [],
   "source": [
    "# remove all symbols\n",
    "rex = RegexpTokenizer(r'\\w+')\n",
    "\n",
    "train['token'] = train['Message_body'].apply(lambda x: rex.tokenize(x))\n",
    "train['token'] = train['token'].apply(lambda x: ' '.join(word for word in x))\n",
    "\n",
    "valid['token'] = valid['Message_body'].apply(lambda x: rex.tokenize(x))\n",
    "valid['token'] = valid['token'].apply(lambda x: ' '.join(word for word in x))"
   ]
  },
  {
   "cell_type": "code",
   "execution_count": 12,
   "metadata": {},
   "outputs": [
    {
     "data": {
      "text/html": [
       "<div>\n",
       "<style scoped>\n",
       "    .dataframe tbody tr th:only-of-type {\n",
       "        vertical-align: middle;\n",
       "    }\n",
       "\n",
       "    .dataframe tbody tr th {\n",
       "        vertical-align: top;\n",
       "    }\n",
       "\n",
       "    .dataframe thead th {\n",
       "        text-align: right;\n",
       "    }\n",
       "</style>\n",
       "<table border=\"1\" class=\"dataframe\">\n",
       "  <thead>\n",
       "    <tr style=\"text-align: right;\">\n",
       "      <th></th>\n",
       "      <th>Message_body</th>\n",
       "      <th>Label</th>\n",
       "      <th>token</th>\n",
       "    </tr>\n",
       "  </thead>\n",
       "  <tbody>\n",
       "    <tr>\n",
       "      <th>0</th>\n",
       "      <td>Rofl. Its true to its name</td>\n",
       "      <td>Non-Spam</td>\n",
       "      <td>Rofl Its true to its name</td>\n",
       "    </tr>\n",
       "    <tr>\n",
       "      <th>1</th>\n",
       "      <td>The guy did some bitching but I acted like i'd...</td>\n",
       "      <td>Non-Spam</td>\n",
       "      <td>The guy did some bitching but I acted like i d...</td>\n",
       "    </tr>\n",
       "    <tr>\n",
       "      <th>2</th>\n",
       "      <td>Pity, * was in mood for that. So...any other s...</td>\n",
       "      <td>Non-Spam</td>\n",
       "      <td>Pity was in mood for that So any other suggest...</td>\n",
       "    </tr>\n",
       "    <tr>\n",
       "      <th>3</th>\n",
       "      <td>Will � b going to esplanade fr home?</td>\n",
       "      <td>Non-Spam</td>\n",
       "      <td>Will b going to esplanade fr home</td>\n",
       "    </tr>\n",
       "    <tr>\n",
       "      <th>4</th>\n",
       "      <td>This is the 2nd time we have tried 2 contact u...</td>\n",
       "      <td>Spam</td>\n",
       "      <td>This is the 2nd time we have tried 2 contact u...</td>\n",
       "    </tr>\n",
       "  </tbody>\n",
       "</table>\n",
       "</div>"
      ],
      "text/plain": [
       "                                        Message_body     Label  \\\n",
       "0                         Rofl. Its true to its name  Non-Spam   \n",
       "1  The guy did some bitching but I acted like i'd...  Non-Spam   \n",
       "2  Pity, * was in mood for that. So...any other s...  Non-Spam   \n",
       "3               Will � b going to esplanade fr home?  Non-Spam   \n",
       "4  This is the 2nd time we have tried 2 contact u...      Spam   \n",
       "\n",
       "                                               token  \n",
       "0                          Rofl Its true to its name  \n",
       "1  The guy did some bitching but I acted like i d...  \n",
       "2  Pity was in mood for that So any other suggest...  \n",
       "3                  Will b going to esplanade fr home  \n",
       "4  This is the 2nd time we have tried 2 contact u...  "
      ]
     },
     "execution_count": 12,
     "metadata": {},
     "output_type": "execute_result"
    }
   ],
   "source": [
    "# inspect the data after removing\n",
    "train.head()"
   ]
  },
  {
   "cell_type": "code",
   "execution_count": 13,
   "metadata": {},
   "outputs": [],
   "source": [
    "# split the data into train and test sets\n",
    "train_df, test_df = train_test_split(train, test_size=0.2, random_state=2022)\n",
    "X_train, y_train = train_df['token'], train_df[\"Label\"]\n",
    "X_test, y_test = test_df[\"token\"], test_df[\"Label\"]"
   ]
  },
  {
   "cell_type": "code",
   "execution_count": 14,
   "metadata": {},
   "outputs": [
    {
     "data": {
      "text/plain": [
       "2772"
      ]
     },
     "execution_count": 14,
     "metadata": {},
     "output_type": "execute_result"
    }
   ],
   "source": [
    "# check out the number of words for the hyperparameter max_features \n",
    "cv = CountVectorizer()\n",
    "cv.fit_transform(X_train)\n",
    "len(cv.vocabulary_)"
   ]
  },
  {
   "cell_type": "markdown",
   "metadata": {},
   "source": [
    "## Try CountVectorizer()"
   ]
  },
  {
   "cell_type": "code",
   "execution_count": 15,
   "metadata": {},
   "outputs": [
    {
     "data": {
      "text/plain": [
       "Pipeline(steps=[('countvectorizer', CountVectorizer()),\n",
       "                ('multinomialnb', MultinomialNB())])"
      ]
     },
     "execution_count": 15,
     "metadata": {},
     "output_type": "execute_result"
    }
   ],
   "source": [
    "# make the pipeline\n",
    "cv_pipe = make_pipeline(CountVectorizer(), MultinomialNB())\n",
    "cv_pipe"
   ]
  },
  {
   "cell_type": "code",
   "execution_count": 16,
   "metadata": {},
   "outputs": [],
   "source": [
    "# set the hyperparameters\n",
    "param_grid = {\n",
    "    'countvectorizer__analyzer': ['word'],\n",
    "    'countvectorizer__stop_words': ['english', None],\n",
    "    'countvectorizer__lowercase' : [True, False],\n",
    "    'countvectorizer__ngram_range' : [(1,1), (1,2)],\n",
    "    'countvectorizer__max_features' : [500, 1000, 1500, 2000, 2500, None],\n",
    "    'multinomialnb__alpha' : np.linspace(0.1, 1, 10)\n",
    "}"
   ]
  },
  {
   "cell_type": "code",
   "execution_count": 17,
   "metadata": {},
   "outputs": [],
   "source": [
    "# set the gridsearch\n",
    "cv_nb = GridSearchCV(cv_pipe, param_grid, cv=5, n_jobs=-1, verbose=2)"
   ]
  },
  {
   "cell_type": "code",
   "execution_count": 18,
   "metadata": {},
   "outputs": [
    {
     "name": "stdout",
     "output_type": "stream",
     "text": [
      "Fitting 5 folds for each of 480 candidates, totalling 2400 fits\n"
     ]
    },
    {
     "data": {
      "text/plain": [
       "GridSearchCV(cv=5,\n",
       "             estimator=Pipeline(steps=[('countvectorizer', CountVectorizer()),\n",
       "                                       ('multinomialnb', MultinomialNB())]),\n",
       "             n_jobs=-1,\n",
       "             param_grid={'countvectorizer__analyzer': ['word'],\n",
       "                         'countvectorizer__lowercase': [True, False],\n",
       "                         'countvectorizer__max_features': [500, 1000, 1500,\n",
       "                                                           2000, 2500, None],\n",
       "                         'countvectorizer__ngram_range': [(1, 1), (1, 2)],\n",
       "                         'countvectorizer__stop_words': ['english', None],\n",
       "                         'multinomialnb__alpha': array([0.1, 0.2, 0.3, 0.4, 0.5, 0.6, 0.7, 0.8, 0.9, 1. ])},\n",
       "             verbose=2)"
      ]
     },
     "execution_count": 18,
     "metadata": {},
     "output_type": "execute_result"
    }
   ],
   "source": [
    "# fit the training data to the model and find the best model\n",
    "cv_nb.fit(X_train, y_train)"
   ]
  },
  {
   "cell_type": "code",
   "execution_count": 19,
   "metadata": {},
   "outputs": [
    {
     "data": {
      "text/plain": [
       "Pipeline(steps=[('countvectorizer', CountVectorizer(max_features=1500)),\n",
       "                ('multinomialnb', MultinomialNB(alpha=0.1))])"
      ]
     },
     "execution_count": 19,
     "metadata": {},
     "output_type": "execute_result"
    }
   ],
   "source": [
    "# check out the hyperparameter for the best model with CountVectorizer()\n",
    "cv_nb.best_estimator_"
   ]
  },
  {
   "cell_type": "code",
   "execution_count": 20,
   "metadata": {},
   "outputs": [
    {
     "data": {
      "text/plain": [
       "fit_time       0.034428\n",
       "score_time     0.006793\n",
       "test_score     0.980392\n",
       "train_score    0.996405\n",
       "dtype: float64"
      ]
     },
     "execution_count": 20,
     "metadata": {},
     "output_type": "execute_result"
    }
   ],
   "source": [
    "# cross validate to check if the model is underfitting/overfitting\n",
    "pipe_cv_nb = make_pipeline(CountVectorizer(max_features = 1500), MultinomialNB(alpha=0.1))\n",
    "scores = cross_validate(pipe_cv_nb, X_train, y_train, return_train_score=True)\n",
    "pd.DataFrame(scores).mean()"
   ]
  },
  {
   "cell_type": "code",
   "execution_count": 21,
   "metadata": {},
   "outputs": [
    {
     "name": "stdout",
     "output_type": "stream",
     "text": [
      "              precision    recall  f1-score   support\n",
      "\n",
      "    Non-Spam       0.99      0.98      0.98       174\n",
      "        Spam       0.80      0.89      0.84        18\n",
      "\n",
      "    accuracy                           0.97       192\n",
      "   macro avg       0.89      0.93      0.91       192\n",
      "weighted avg       0.97      0.97      0.97       192\n",
      "\n"
     ]
    }
   ],
   "source": [
    "# the model looks good, apply it to the test data and check out the scores\n",
    "print(classification_report(y_test, cv_nb.best_estimator_.predict(X_test)))"
   ]
  },
  {
   "cell_type": "code",
   "execution_count": 22,
   "metadata": {},
   "outputs": [
    {
     "data": {
      "text/plain": [
       "<sklearn.metrics._plot.confusion_matrix.ConfusionMatrixDisplay at 0x18da6e93b20>"
      ]
     },
     "execution_count": 22,
     "metadata": {},
     "output_type": "execute_result"
    },
    {
     "data": {
      "image/png": "[encoded data removed]",
      "text/plain": [
       "<Figure size 432x288 with 2 Axes>"
      ]
     },
     "metadata": {
      "needs_background": "light"
     },
     "output_type": "display_data"
    }
   ],
   "source": [
    "# plot the confusion matrix to visualize the performance\n",
    "plot_confusion_matrix(cv_nb.best_estimator_, X_test, y_test, normalize='true', cmap='Greens')"
   ]
  },
  {
   "cell_type": "markdown",
   "metadata": {},
   "source": [
    "## Try TfidfVectorizer()"
   ]
  },
  {
   "cell_type": "code",
   "execution_count": 23,
   "metadata": {},
   "outputs": [
    {
     "data": {
      "text/plain": [
       "Pipeline(steps=[('tfidfvectorizer', TfidfVectorizer()),\n",
       "                ('multinomialnb', MultinomialNB())])"
      ]
     },
     "execution_count": 23,
     "metadata": {},
     "output_type": "execute_result"
    }
   ],
   "source": [
    "# make the pipeline with TfidfVectorizer()\n",
    "tf_pipe = make_pipeline(TfidfVectorizer(), MultinomialNB())\n",
    "tf_pipe"
   ]
  },
  {
   "cell_type": "code",
   "execution_count": 24,
   "metadata": {},
   "outputs": [],
   "source": [
    "# set the hyperparameters\n",
    "param_grid = {\n",
    "    'tfidfvectorizer__analyzer': ['word'],\n",
    "    'tfidfvectorizer__stop_words': ['english', None],\n",
    "    'tfidfvectorizer__lowercase' : [True, False],\n",
    "    'tfidfvectorizer__norm' : ['l1', 'l2'],\n",
    "    'tfidfvectorizer__ngram_range' : [(1,1), (1,2)],\n",
    "    'tfidfvectorizer__use_idf' :  [True, False],\n",
    "    'tfidfvectorizer__max_features' : [500, 1000, 1500, 2000, 2500, None],\n",
    "    'multinomialnb__alpha' : np.linspace(0.1, 1, 10)\n",
    "}"
   ]
  },
  {
   "cell_type": "code",
   "execution_count": 25,
   "metadata": {},
   "outputs": [],
   "source": [
    "# set the gridsearch\n",
    "tf_nb = GridSearchCV(tf_pipe, param_grid, cv=5, n_jobs=-1, verbose=2)"
   ]
  },
  {
   "cell_type": "code",
   "execution_count": 26,
   "metadata": {},
   "outputs": [
    {
     "name": "stdout",
     "output_type": "stream",
     "text": [
      "Fitting 5 folds for each of 1920 candidates, totalling 9600 fits\n"
     ]
    },
    {
     "data": {
      "text/plain": [
       "GridSearchCV(cv=5,\n",
       "             estimator=Pipeline(steps=[('tfidfvectorizer', TfidfVectorizer()),\n",
       "                                       ('multinomialnb', MultinomialNB())]),\n",
       "             n_jobs=-1,\n",
       "             param_grid={'multinomialnb__alpha': array([0.1, 0.2, 0.3, 0.4, 0.5, 0.6, 0.7, 0.8, 0.9, 1. ]),\n",
       "                         'tfidfvectorizer__analyzer': ['word'],\n",
       "                         'tfidfvectorizer__lowercase': [True, False],\n",
       "                         'tfidfvectorizer__max_features': [500, 1000, 1500,\n",
       "                                                           2000, 2500, None],\n",
       "                         'tfidfvectorizer__ngram_range': [(1, 1), (1, 2)],\n",
       "                         'tfidfvectorizer__norm': ['l1', 'l2'],\n",
       "                         'tfidfvectorizer__stop_words': ['english', None],\n",
       "                         'tfidfvectorizer__use_idf': [True, False]},\n",
       "             verbose=2)"
      ]
     },
     "execution_count": 26,
     "metadata": {},
     "output_type": "execute_result"
    }
   ],
   "source": [
    "# fit the training data to the model and find the best model\n",
    "tf_nb.fit(X_train, y_train)"
   ]
  },
  {
   "cell_type": "code",
   "execution_count": 27,
   "metadata": {},
   "outputs": [
    {
     "data": {
      "text/plain": [
       "Pipeline(steps=[('tfidfvectorizer',\n",
       "                 TfidfVectorizer(lowercase=False, max_features=2000,\n",
       "                                 stop_words='english')),\n",
       "                ('multinomialnb', MultinomialNB(alpha=0.2))])"
      ]
     },
     "execution_count": 27,
     "metadata": {},
     "output_type": "execute_result"
    }
   ],
   "source": [
    "# check out the hyperparameter for the best model with TfidfVectorizer()\n",
    "tf_nb.best_estimator_"
   ]
  },
  {
   "cell_type": "code",
   "execution_count": 28,
   "metadata": {},
   "outputs": [
    {
     "data": {
      "text/plain": [
       "fit_time       0.046141\n",
       "score_time     0.009402\n",
       "test_score     0.976471\n",
       "train_score    0.998039\n",
       "dtype: float64"
      ]
     },
     "execution_count": 28,
     "metadata": {},
     "output_type": "execute_result"
    }
   ],
   "source": [
    "# cross validate to check if the model is underfitting/overfitting\n",
    "pipe_tf_nb = make_pipeline(TfidfVectorizer(lowercase=False, max_features=2000, stop_words='english'),\\\n",
    "                           MultinomialNB(alpha=0.2))\n",
    "\n",
    "scores = cross_validate(pipe_tf_nb, X_train, y_train, return_train_score=True)\n",
    "pd.DataFrame(scores).mean()"
   ]
  },
  {
   "cell_type": "code",
   "execution_count": 29,
   "metadata": {},
   "outputs": [
    {
     "name": "stdout",
     "output_type": "stream",
     "text": [
      "              precision    recall  f1-score   support\n",
      "\n",
      "    Non-Spam       0.98      0.98      0.98       174\n",
      "        Spam       0.83      0.83      0.83        18\n",
      "\n",
      "    accuracy                           0.97       192\n",
      "   macro avg       0.91      0.91      0.91       192\n",
      "weighted avg       0.97      0.97      0.97       192\n",
      "\n"
     ]
    }
   ],
   "source": [
    "# the model looks good, apply it to the test data and check out the scores\n",
    "print(classification_report(y_test, tf_nb.best_estimator_.predict(X_test)))"
   ]
  },
  {
   "cell_type": "code",
   "execution_count": 30,
   "metadata": {},
   "outputs": [
    {
     "data": {
      "text/plain": [
       "<sklearn.metrics._plot.confusion_matrix.ConfusionMatrixDisplay at 0x18da79414f0>"
      ]
     },
     "execution_count": 30,
     "metadata": {},
     "output_type": "execute_result"
    },
    {
     "data": {
      "image/png": "[encoded data removed]",
      "text/plain": [
       "<Figure size 432x288 with 2 Axes>"
      ]
     },
     "metadata": {
      "needs_background": "light"
     },
     "output_type": "display_data"
    }
   ],
   "source": [
    "# plot the confusion matrix to visualize the performance\n",
    "plot_confusion_matrix(tf_nb.best_estimator_, X_test, y_test, normalize='true', cmap='Greens')"
   ]
  },
  {
   "cell_type": "code",
   "execution_count": null,
   "metadata": {},
   "outputs": [],
   "source": []
  },
  {
   "cell_type": "code",
   "execution_count": 31,
   "metadata": {},
   "outputs": [
    {
     "name": "stdout",
     "output_type": "stream",
     "text": [
      "              precision    recall  f1-score   support\n",
      "\n",
      "    Non-Spam       0.84      0.96      0.90        49\n",
      "        Spam       0.97      0.88      0.92        76\n",
      "\n",
      "    accuracy                           0.91       125\n",
      "   macro avg       0.91      0.92      0.91       125\n",
      "weighted avg       0.92      0.91      0.91       125\n",
      "\n"
     ]
    }
   ],
   "source": [
    "print(classification_report(valid['Label'], cv_nb.best_estimator_.predict(valid['token'])))"
   ]
  },
  {
   "cell_type": "code",
   "execution_count": 32,
   "metadata": {},
   "outputs": [
    {
     "data": {
      "text/plain": [
       "<sklearn.metrics._plot.confusion_matrix.ConfusionMatrixDisplay at 0x18da6e03580>"
      ]
     },
     "execution_count": 32,
     "metadata": {},
     "output_type": "execute_result"
    },
    {
     "data": {
      "image/png": "[encoded data removed]",
      "text/plain": [
       "<Figure size 432x288 with 2 Axes>"
      ]
     },
     "metadata": {
      "needs_background": "light"
     },
     "output_type": "display_data"
    }
   ],
   "source": [
    "plot_confusion_matrix(cv_nb.best_estimator_, valid['token'], valid['Label'], normalize='true', cmap='Greens')"
   ]
  }
 ],
 "metadata": {
  "kernelspec": {
   "display_name": "Python 3",
   "language": "python",
   "name": "python3"
  },
  "language_info": {
   "codemirror_mode": {
    "name": "ipython",
    "version": 3
   },
   "file_extension": ".py",
   "mimetype": "text/x-python",
   "name": "python",
   "nbconvert_exporter": "python",
   "pygments_lexer": "ipython3",
   "version": "3.8.3"
  }
 },
 "nbformat": 4,
 "nbformat_minor": 4
}
